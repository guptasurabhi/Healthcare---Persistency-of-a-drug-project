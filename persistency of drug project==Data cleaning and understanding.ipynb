{
 "cells": [
  {
   "cell_type": "code",
   "execution_count": 1,
   "id": "46aeb55d",
   "metadata": {},
   "outputs": [],
   "source": [
    "import pandas as pd"
   ]
  },
  {
   "cell_type": "code",
   "execution_count": 2,
   "id": "ba42c51b",
   "metadata": {},
   "outputs": [],
   "source": [
    "data=pd.read_csv(r\"C:\\Users\\win10\\Desktop\\Healthcare_dataset.csv\")"
   ]
  },
  {
   "cell_type": "code",
   "execution_count": 3,
   "id": "beace587",
   "metadata": {
    "scrolled": true
   },
   "outputs": [
    {
     "name": "stdout",
     "output_type": "stream",
     "text": [
      "<class 'pandas.core.frame.DataFrame'>\n",
      "RangeIndex: 3424 entries, 0 to 3423\n",
      "Data columns (total 69 columns):\n",
      " #   Column                                                              Non-Null Count  Dtype \n",
      "---  ------                                                              --------------  ----- \n",
      " 0   Ptid                                                                3424 non-null   object\n",
      " 1   Persistency_Flag                                                    3424 non-null   object\n",
      " 2   Gender                                                              3424 non-null   object\n",
      " 3   Race                                                                3424 non-null   object\n",
      " 4   Ethnicity                                                           3424 non-null   object\n",
      " 5   Region                                                              3424 non-null   object\n",
      " 6   Age_Bucket                                                          3424 non-null   object\n",
      " 7   Ntm_Speciality                                                      3424 non-null   object\n",
      " 8   Ntm_Specialist_Flag                                                 3424 non-null   object\n",
      " 9   Ntm_Speciality_Bucket                                               3424 non-null   object\n",
      " 10  Gluco_Record_Prior_Ntm                                              3424 non-null   object\n",
      " 11  Gluco_Record_During_Rx                                              3424 non-null   object\n",
      " 12  Dexa_Freq_During_Rx                                                 3424 non-null   int64 \n",
      " 13  Dexa_During_Rx                                                      3424 non-null   object\n",
      " 14  Frag_Frac_Prior_Ntm                                                 3424 non-null   object\n",
      " 15  Frag_Frac_During_Rx                                                 3424 non-null   object\n",
      " 16  Risk_Segment_Prior_Ntm                                              3424 non-null   object\n",
      " 17  Tscore_Bucket_Prior_Ntm                                             3424 non-null   object\n",
      " 18  Risk_Segment_During_Rx                                              3424 non-null   object\n",
      " 19  Tscore_Bucket_During_Rx                                             3424 non-null   object\n",
      " 20  Change_T_Score                                                      3424 non-null   object\n",
      " 21  Change_Risk_Segment                                                 3424 non-null   object\n",
      " 22  Adherent_Flag                                                       3424 non-null   object\n",
      " 23  Idn_Indicator                                                       3424 non-null   object\n",
      " 24  Injectable_Experience_During_Rx                                     3424 non-null   object\n",
      " 25  Comorb_Encounter_For_Screening_For_Malignant_Neoplasms              3424 non-null   object\n",
      " 26  Comorb_Encounter_For_Immunization                                   3424 non-null   object\n",
      " 27  Comorb_Encntr_For_General_Exam_W_O_Complaint,_Susp_Or_Reprtd_Dx     3424 non-null   object\n",
      " 28  Comorb_Vitamin_D_Deficiency                                         3424 non-null   object\n",
      " 29  Comorb_Other_Joint_Disorder_Not_Elsewhere_Classified                3424 non-null   object\n",
      " 30  Comorb_Encntr_For_Oth_Sp_Exam_W_O_Complaint_Suspected_Or_Reprtd_Dx  3424 non-null   object\n",
      " 31  Comorb_Long_Term_Current_Drug_Therapy                               3424 non-null   object\n",
      " 32  Comorb_Dorsalgia                                                    3424 non-null   object\n",
      " 33  Comorb_Personal_History_Of_Other_Diseases_And_Conditions            3424 non-null   object\n",
      " 34  Comorb_Other_Disorders_Of_Bone_Density_And_Structure                3424 non-null   object\n",
      " 35  Comorb_Disorders_of_lipoprotein_metabolism_and_other_lipidemias     3424 non-null   object\n",
      " 36  Comorb_Osteoporosis_without_current_pathological_fracture           3424 non-null   object\n",
      " 37  Comorb_Personal_history_of_malignant_neoplasm                       3424 non-null   object\n",
      " 38  Comorb_Gastro_esophageal_reflux_disease                             3424 non-null   object\n",
      " 39  Concom_Cholesterol_And_Triglyceride_Regulating_Preparations         3424 non-null   object\n",
      " 40  Concom_Narcotics                                                    3424 non-null   object\n",
      " 41  Concom_Systemic_Corticosteroids_Plain                               3424 non-null   object\n",
      " 42  Concom_Anti_Depressants_And_Mood_Stabilisers                        3424 non-null   object\n",
      " 43  Concom_Fluoroquinolones                                             3424 non-null   object\n",
      " 44  Concom_Cephalosporins                                               3424 non-null   object\n",
      " 45  Concom_Macrolides_And_Similar_Types                                 3424 non-null   object\n",
      " 46  Concom_Broad_Spectrum_Penicillins                                   3424 non-null   object\n",
      " 47  Concom_Anaesthetics_General                                         3424 non-null   object\n",
      " 48  Concom_Viral_Vaccines                                               3424 non-null   object\n",
      " 49  Risk_Type_1_Insulin_Dependent_Diabetes                              3424 non-null   object\n",
      " 50  Risk_Osteogenesis_Imperfecta                                        3424 non-null   object\n",
      " 51  Risk_Rheumatoid_Arthritis                                           3424 non-null   object\n",
      " 52  Risk_Untreated_Chronic_Hyperthyroidism                              3424 non-null   object\n",
      " 53  Risk_Untreated_Chronic_Hypogonadism                                 3424 non-null   object\n",
      " 54  Risk_Untreated_Early_Menopause                                      3424 non-null   object\n",
      " 55  Risk_Patient_Parent_Fractured_Their_Hip                             3424 non-null   object\n",
      " 56  Risk_Smoking_Tobacco                                                3424 non-null   object\n",
      " 57  Risk_Chronic_Malnutrition_Or_Malabsorption                          3424 non-null   object\n",
      " 58  Risk_Chronic_Liver_Disease                                          3424 non-null   object\n",
      " 59  Risk_Family_History_Of_Osteoporosis                                 3424 non-null   object\n",
      " 60  Risk_Low_Calcium_Intake                                             3424 non-null   object\n",
      " 61  Risk_Vitamin_D_Insufficiency                                        3424 non-null   object\n",
      " 62  Risk_Poor_Health_Frailty                                            3424 non-null   object\n",
      " 63  Risk_Excessive_Thinness                                             3424 non-null   object\n",
      " 64  Risk_Hysterectomy_Oophorectomy                                      3424 non-null   object\n",
      " 65  Risk_Estrogen_Deficiency                                            3424 non-null   object\n",
      " 66  Risk_Immobilization                                                 3424 non-null   object\n",
      " 67  Risk_Recurring_Falls                                                3424 non-null   object\n",
      " 68  Count_Of_Risks                                                      3424 non-null   int64 \n",
      "dtypes: int64(2), object(67)\n",
      "memory usage: 1.8+ MB\n"
     ]
    }
   ],
   "source": [
    "data.info()"
   ]
  },
  {
   "cell_type": "code",
   "execution_count": 5,
   "id": "79d81897",
   "metadata": {},
   "outputs": [
    {
     "data": {
      "text/plain": [
       "(3424, 69)"
      ]
     },
     "execution_count": 5,
     "metadata": {},
     "output_type": "execute_result"
    }
   ],
   "source": [
    "data.shape"
   ]
  },
  {
   "cell_type": "code",
   "execution_count": 6,
   "id": "d00f5fc8",
   "metadata": {},
   "outputs": [
    {
     "data": {
      "text/html": [
       "<div>\n",
       "<style scoped>\n",
       "    .dataframe tbody tr th:only-of-type {\n",
       "        vertical-align: middle;\n",
       "    }\n",
       "\n",
       "    .dataframe tbody tr th {\n",
       "        vertical-align: top;\n",
       "    }\n",
       "\n",
       "    .dataframe thead th {\n",
       "        text-align: right;\n",
       "    }\n",
       "</style>\n",
       "<table border=\"1\" class=\"dataframe\">\n",
       "  <thead>\n",
       "    <tr style=\"text-align: right;\">\n",
       "      <th></th>\n",
       "      <th>Ptid</th>\n",
       "      <th>Persistency_Flag</th>\n",
       "      <th>Gender</th>\n",
       "      <th>Race</th>\n",
       "      <th>Ethnicity</th>\n",
       "      <th>Region</th>\n",
       "      <th>Age_Bucket</th>\n",
       "      <th>Ntm_Speciality</th>\n",
       "      <th>Ntm_Specialist_Flag</th>\n",
       "      <th>Ntm_Speciality_Bucket</th>\n",
       "      <th>...</th>\n",
       "      <th>Risk_Family_History_Of_Osteoporosis</th>\n",
       "      <th>Risk_Low_Calcium_Intake</th>\n",
       "      <th>Risk_Vitamin_D_Insufficiency</th>\n",
       "      <th>Risk_Poor_Health_Frailty</th>\n",
       "      <th>Risk_Excessive_Thinness</th>\n",
       "      <th>Risk_Hysterectomy_Oophorectomy</th>\n",
       "      <th>Risk_Estrogen_Deficiency</th>\n",
       "      <th>Risk_Immobilization</th>\n",
       "      <th>Risk_Recurring_Falls</th>\n",
       "      <th>Count_Of_Risks</th>\n",
       "    </tr>\n",
       "  </thead>\n",
       "  <tbody>\n",
       "    <tr>\n",
       "      <th>0</th>\n",
       "      <td>P1</td>\n",
       "      <td>Persistent</td>\n",
       "      <td>Male</td>\n",
       "      <td>Caucasian</td>\n",
       "      <td>Not Hispanic</td>\n",
       "      <td>West</td>\n",
       "      <td>&gt;75</td>\n",
       "      <td>GENERAL PRACTITIONER</td>\n",
       "      <td>Others</td>\n",
       "      <td>OB/GYN/Others/PCP/Unknown</td>\n",
       "      <td>...</td>\n",
       "      <td>N</td>\n",
       "      <td>N</td>\n",
       "      <td>N</td>\n",
       "      <td>N</td>\n",
       "      <td>N</td>\n",
       "      <td>N</td>\n",
       "      <td>N</td>\n",
       "      <td>N</td>\n",
       "      <td>N</td>\n",
       "      <td>0</td>\n",
       "    </tr>\n",
       "    <tr>\n",
       "      <th>1</th>\n",
       "      <td>P2</td>\n",
       "      <td>Non-Persistent</td>\n",
       "      <td>Male</td>\n",
       "      <td>Asian</td>\n",
       "      <td>Not Hispanic</td>\n",
       "      <td>West</td>\n",
       "      <td>55-65</td>\n",
       "      <td>GENERAL PRACTITIONER</td>\n",
       "      <td>Others</td>\n",
       "      <td>OB/GYN/Others/PCP/Unknown</td>\n",
       "      <td>...</td>\n",
       "      <td>N</td>\n",
       "      <td>N</td>\n",
       "      <td>N</td>\n",
       "      <td>N</td>\n",
       "      <td>N</td>\n",
       "      <td>N</td>\n",
       "      <td>N</td>\n",
       "      <td>N</td>\n",
       "      <td>N</td>\n",
       "      <td>0</td>\n",
       "    </tr>\n",
       "    <tr>\n",
       "      <th>2</th>\n",
       "      <td>P3</td>\n",
       "      <td>Non-Persistent</td>\n",
       "      <td>Female</td>\n",
       "      <td>Other/Unknown</td>\n",
       "      <td>Hispanic</td>\n",
       "      <td>Midwest</td>\n",
       "      <td>65-75</td>\n",
       "      <td>GENERAL PRACTITIONER</td>\n",
       "      <td>Others</td>\n",
       "      <td>OB/GYN/Others/PCP/Unknown</td>\n",
       "      <td>...</td>\n",
       "      <td>N</td>\n",
       "      <td>Y</td>\n",
       "      <td>N</td>\n",
       "      <td>N</td>\n",
       "      <td>N</td>\n",
       "      <td>N</td>\n",
       "      <td>N</td>\n",
       "      <td>N</td>\n",
       "      <td>N</td>\n",
       "      <td>2</td>\n",
       "    </tr>\n",
       "    <tr>\n",
       "      <th>3</th>\n",
       "      <td>P4</td>\n",
       "      <td>Non-Persistent</td>\n",
       "      <td>Female</td>\n",
       "      <td>Caucasian</td>\n",
       "      <td>Not Hispanic</td>\n",
       "      <td>Midwest</td>\n",
       "      <td>&gt;75</td>\n",
       "      <td>GENERAL PRACTITIONER</td>\n",
       "      <td>Others</td>\n",
       "      <td>OB/GYN/Others/PCP/Unknown</td>\n",
       "      <td>...</td>\n",
       "      <td>N</td>\n",
       "      <td>N</td>\n",
       "      <td>N</td>\n",
       "      <td>N</td>\n",
       "      <td>N</td>\n",
       "      <td>N</td>\n",
       "      <td>N</td>\n",
       "      <td>N</td>\n",
       "      <td>N</td>\n",
       "      <td>1</td>\n",
       "    </tr>\n",
       "    <tr>\n",
       "      <th>4</th>\n",
       "      <td>P5</td>\n",
       "      <td>Non-Persistent</td>\n",
       "      <td>Female</td>\n",
       "      <td>Caucasian</td>\n",
       "      <td>Not Hispanic</td>\n",
       "      <td>Midwest</td>\n",
       "      <td>&gt;75</td>\n",
       "      <td>GENERAL PRACTITIONER</td>\n",
       "      <td>Others</td>\n",
       "      <td>OB/GYN/Others/PCP/Unknown</td>\n",
       "      <td>...</td>\n",
       "      <td>N</td>\n",
       "      <td>N</td>\n",
       "      <td>N</td>\n",
       "      <td>N</td>\n",
       "      <td>N</td>\n",
       "      <td>N</td>\n",
       "      <td>N</td>\n",
       "      <td>N</td>\n",
       "      <td>N</td>\n",
       "      <td>1</td>\n",
       "    </tr>\n",
       "  </tbody>\n",
       "</table>\n",
       "<p>5 rows × 69 columns</p>\n",
       "</div>"
      ],
      "text/plain": [
       "  Ptid Persistency_Flag  Gender           Race     Ethnicity   Region  \\\n",
       "0   P1       Persistent    Male      Caucasian  Not Hispanic     West   \n",
       "1   P2   Non-Persistent    Male          Asian  Not Hispanic     West   \n",
       "2   P3   Non-Persistent  Female  Other/Unknown      Hispanic  Midwest   \n",
       "3   P4   Non-Persistent  Female      Caucasian  Not Hispanic  Midwest   \n",
       "4   P5   Non-Persistent  Female      Caucasian  Not Hispanic  Midwest   \n",
       "\n",
       "  Age_Bucket        Ntm_Speciality Ntm_Specialist_Flag  \\\n",
       "0        >75  GENERAL PRACTITIONER              Others   \n",
       "1      55-65  GENERAL PRACTITIONER              Others   \n",
       "2      65-75  GENERAL PRACTITIONER              Others   \n",
       "3        >75  GENERAL PRACTITIONER              Others   \n",
       "4        >75  GENERAL PRACTITIONER              Others   \n",
       "\n",
       "       Ntm_Speciality_Bucket  ... Risk_Family_History_Of_Osteoporosis  \\\n",
       "0  OB/GYN/Others/PCP/Unknown  ...                                   N   \n",
       "1  OB/GYN/Others/PCP/Unknown  ...                                   N   \n",
       "2  OB/GYN/Others/PCP/Unknown  ...                                   N   \n",
       "3  OB/GYN/Others/PCP/Unknown  ...                                   N   \n",
       "4  OB/GYN/Others/PCP/Unknown  ...                                   N   \n",
       "\n",
       "  Risk_Low_Calcium_Intake  Risk_Vitamin_D_Insufficiency  \\\n",
       "0                       N                             N   \n",
       "1                       N                             N   \n",
       "2                       Y                             N   \n",
       "3                       N                             N   \n",
       "4                       N                             N   \n",
       "\n",
       "  Risk_Poor_Health_Frailty Risk_Excessive_Thinness  \\\n",
       "0                        N                       N   \n",
       "1                        N                       N   \n",
       "2                        N                       N   \n",
       "3                        N                       N   \n",
       "4                        N                       N   \n",
       "\n",
       "  Risk_Hysterectomy_Oophorectomy Risk_Estrogen_Deficiency Risk_Immobilization  \\\n",
       "0                              N                        N                   N   \n",
       "1                              N                        N                   N   \n",
       "2                              N                        N                   N   \n",
       "3                              N                        N                   N   \n",
       "4                              N                        N                   N   \n",
       "\n",
       "  Risk_Recurring_Falls Count_Of_Risks  \n",
       "0                    N              0  \n",
       "1                    N              0  \n",
       "2                    N              2  \n",
       "3                    N              1  \n",
       "4                    N              1  \n",
       "\n",
       "[5 rows x 69 columns]"
      ]
     },
     "execution_count": 6,
     "metadata": {},
     "output_type": "execute_result"
    }
   ],
   "source": [
    "data.head()"
   ]
  },
  {
   "cell_type": "code",
   "execution_count": 7,
   "id": "a2116282",
   "metadata": {},
   "outputs": [
    {
     "data": {
      "text/plain": [
       "Ptid                              object\n",
       "Persistency_Flag                  object\n",
       "Gender                            object\n",
       "Race                              object\n",
       "Ethnicity                         object\n",
       "                                   ...  \n",
       "Risk_Hysterectomy_Oophorectomy    object\n",
       "Risk_Estrogen_Deficiency          object\n",
       "Risk_Immobilization               object\n",
       "Risk_Recurring_Falls              object\n",
       "Count_Of_Risks                     int64\n",
       "Length: 69, dtype: object"
      ]
     },
     "execution_count": 7,
     "metadata": {},
     "output_type": "execute_result"
    }
   ],
   "source": [
    "data.dtypes"
   ]
  },
  {
   "cell_type": "markdown",
   "id": "b37bc856",
   "metadata": {},
   "source": [
    "CHECK FOR NULL VALUES"
   ]
  },
  {
   "cell_type": "code",
   "execution_count": 9,
   "id": "785fd42a",
   "metadata": {},
   "outputs": [
    {
     "data": {
      "text/plain": [
       "False"
      ]
     },
     "execution_count": 9,
     "metadata": {},
     "output_type": "execute_result"
    }
   ],
   "source": [
    "data.isnull().any().any()"
   ]
  },
  {
   "cell_type": "markdown",
   "id": "cfdf8b7d",
   "metadata": {},
   "source": [
    "CHECK FOR DUPLICATES"
   ]
  },
  {
   "cell_type": "code",
   "execution_count": 15,
   "id": "8edcc91f",
   "metadata": {},
   "outputs": [
    {
     "data": {
      "text/plain": [
       "False"
      ]
     },
     "execution_count": 15,
     "metadata": {},
     "output_type": "execute_result"
    }
   ],
   "source": [
    "data.duplicated().any()"
   ]
  },
  {
   "cell_type": "markdown",
   "id": "585a74b7",
   "metadata": {},
   "source": [
    "CHECK FOR VALUE COUNTS"
   ]
  },
  {
   "cell_type": "code",
   "execution_count": 16,
   "id": "a6585cf2",
   "metadata": {},
   "outputs": [
    {
     "data": {
      "text/plain": [
       "Non-Persistent    2135\n",
       "Persistent        1289\n",
       "Name: Persistency_Flag, dtype: int64"
      ]
     },
     "execution_count": 16,
     "metadata": {},
     "output_type": "execute_result"
    }
   ],
   "source": [
    "data['Persistency_Flag'].value_counts()"
   ]
  },
  {
   "cell_type": "code",
   "execution_count": 26,
   "id": "7e861b39",
   "metadata": {},
   "outputs": [
    {
     "data": {
      "text/plain": [
       ">75      1439\n",
       "65-75    1086\n",
       "55-65     733\n",
       "<55       166\n",
       "Name: Age_Bucket, dtype: int64"
      ]
     },
     "execution_count": 26,
     "metadata": {},
     "output_type": "execute_result"
    }
   ],
   "source": [
    "data['Age_Bucket'].value_counts()"
   ]
  },
  {
   "cell_type": "code",
   "execution_count": 18,
   "id": "f40c4df6",
   "metadata": {},
   "outputs": [
    {
     "data": {
      "text/plain": [
       "Caucasian           3148\n",
       "Other/Unknown         97\n",
       "African American      95\n",
       "Asian                 84\n",
       "Name: Race, dtype: int64"
      ]
     },
     "execution_count": 18,
     "metadata": {},
     "output_type": "execute_result"
    }
   ],
   "source": [
    "data['Race'].value_counts()"
   ]
  },
  {
   "cell_type": "code",
   "execution_count": 27,
   "id": "f53b0f9a",
   "metadata": {},
   "outputs": [
    {
     "data": {
      "text/plain": [
       "Midwest          1383\n",
       "South            1247\n",
       "West              502\n",
       "Northeast         232\n",
       "Other/Unknown      60\n",
       "Name: Region, dtype: int64"
      ]
     },
     "execution_count": 27,
     "metadata": {},
     "output_type": "execute_result"
    }
   ],
   "source": [
    "data['Region'].value_counts()"
   ]
  },
  {
   "cell_type": "markdown",
   "id": "98aece42",
   "metadata": {},
   "source": [
    "VALUE COUNTS FOR DEMOGRAPHICS"
   ]
  },
  {
   "cell_type": "code",
   "execution_count": 28,
   "id": "0c822a2e",
   "metadata": {},
   "outputs": [
    {
     "data": {
      "text/plain": [
       "Not Hispanic    3235\n",
       "Hispanic          98\n",
       "Unknown           91\n",
       "Name: Ethnicity, dtype: int64"
      ]
     },
     "execution_count": 28,
     "metadata": {},
     "output_type": "execute_result"
    }
   ],
   "source": [
    "data['Ethnicity'].value_counts()"
   ]
  },
  {
   "cell_type": "markdown",
   "id": "326ae8a8",
   "metadata": {},
   "source": [
    "Maximum patients are Not Hispanic"
   ]
  },
  {
   "cell_type": "code",
   "execution_count": 29,
   "id": "58dcc668",
   "metadata": {},
   "outputs": [
    {
     "data": {
      "text/plain": [
       "Female    3230\n",
       "Male       194\n",
       "Name: Gender, dtype: int64"
      ]
     },
     "execution_count": 29,
     "metadata": {},
     "output_type": "execute_result"
    }
   ],
   "source": [
    "data['Gender'].value_counts()"
   ]
  },
  {
   "cell_type": "code",
   "execution_count": 30,
   "id": "2957852e",
   "metadata": {},
   "outputs": [
    {
     "data": {
      "text/plain": [
       "Y    2557\n",
       "N     867\n",
       "Name: Idn_Indicator, dtype: int64"
      ]
     },
     "execution_count": 30,
     "metadata": {},
     "output_type": "execute_result"
    }
   ],
   "source": [
    "data['Idn_Indicator'].value_counts()"
   ]
  },
  {
   "cell_type": "markdown",
   "id": "2971dbda",
   "metadata": {},
   "source": [
    "Provider Attributes"
   ]
  },
  {
   "cell_type": "code",
   "execution_count": 32,
   "id": "08c2d516",
   "metadata": {},
   "outputs": [
    {
     "data": {
      "text/plain": [
       "OB/GYN/Others/PCP/Unknown    2104\n",
       "Endo/Onc/Uro                  716\n",
       "Rheum                         604\n",
       "Name: Ntm_Speciality_Bucket, dtype: int64"
      ]
     },
     "execution_count": 32,
     "metadata": {},
     "output_type": "execute_result"
    }
   ],
   "source": [
    "data['Ntm_Speciality_Bucket'].value_counts()"
   ]
  },
  {
   "cell_type": "markdown",
   "id": "d7137c57",
   "metadata": {},
   "source": [
    "Maximum physician are OB/GYN"
   ]
  },
  {
   "cell_type": "code",
   "execution_count": 33,
   "id": "528a6f49",
   "metadata": {},
   "outputs": [
    {
     "data": {
      "text/plain": [
       ">-2.5     1951\n",
       "<=-2.5    1473\n",
       "Name: Tscore_Bucket_Prior_Ntm, dtype: int64"
      ]
     },
     "execution_count": 33,
     "metadata": {},
     "output_type": "execute_result"
    }
   ],
   "source": [
    "data['Tscore_Bucket_Prior_Ntm'].value_counts()"
   ]
  },
  {
   "cell_type": "markdown",
   "id": "22288e8d",
   "metadata": {},
   "source": [
    "T Score of the patient at the time of the NTM Rx (within 2 years prior from rxdate) more in  2.5"
   ]
  },
  {
   "cell_type": "code",
   "execution_count": 34,
   "id": "275408c5",
   "metadata": {},
   "outputs": [
    {
     "data": {
      "text/plain": [
       "No change    1660\n",
       "Unknown      1497\n",
       "Worsened      173\n",
       "Improved       94\n",
       "Name: Change_T_Score, dtype: int64"
      ]
     },
     "execution_count": 34,
     "metadata": {},
     "output_type": "execute_result"
    }
   ],
   "source": [
    "data['Change_T_Score'].value_counts()"
   ]
  },
  {
   "cell_type": "code",
   "execution_count": 36,
   "id": "124a5e66",
   "metadata": {},
   "outputs": [
    {
     "data": {
      "text/plain": [
       "Unknown    1497\n",
       "HR_VHR      965\n",
       "VLR_LR      962\n",
       "Name: Risk_Segment_During_Rx, dtype: int64"
      ]
     },
     "execution_count": 36,
     "metadata": {},
     "output_type": "execute_result"
    }
   ],
   "source": [
    "data['Risk_Segment_During_Rx'].value_counts()"
   ]
  },
  {
   "cell_type": "code",
   "execution_count": 37,
   "id": "8af2077c",
   "metadata": {},
   "outputs": [
    {
     "data": {
      "text/plain": [
       "Unknown      2229\n",
       "No change    1052\n",
       "Worsened      121\n",
       "Improved       22\n",
       "Name: Change_Risk_Segment, dtype: int64"
      ]
     },
     "execution_count": 37,
     "metadata": {},
     "output_type": "execute_result"
    }
   ],
   "source": [
    "data['Change_Risk_Segment'].value_counts()"
   ]
  },
  {
   "cell_type": "code",
   "execution_count": 38,
   "id": "8b554fd1",
   "metadata": {},
   "outputs": [
    {
     "data": {
      "text/plain": [
       "1    1242\n",
       "0     970\n",
       "2     781\n",
       "3     317\n",
       "4      91\n",
       "5      15\n",
       "6       6\n",
       "7       2\n",
       "Name: Count_Of_Risks, dtype: int64"
      ]
     },
     "execution_count": 38,
     "metadata": {},
     "output_type": "execute_result"
    }
   ],
   "source": [
    "data['Count_Of_Risks'].value_counts()"
   ]
  },
  {
   "cell_type": "markdown",
   "id": "acfebdc3",
   "metadata": {},
   "source": [
    "Clinical Factors"
   ]
  },
  {
   "cell_type": "code",
   "execution_count": 39,
   "id": "2cd28aa8",
   "metadata": {},
   "outputs": [
    {
     "data": {
      "text/plain": [
       "0      2488\n",
       "5       114\n",
       "6       107\n",
       "7        93\n",
       "8        71\n",
       "4        68\n",
       "10       55\n",
       "12       52\n",
       "3        46\n",
       "14       38\n",
       "9        32\n",
       "11       30\n",
       "1        24\n",
       "2        24\n",
       "13       19\n",
       "20       15\n",
       "16       14\n",
       "18       14\n",
       "22       13\n",
       "26       10\n",
       "24       10\n",
       "15        9\n",
       "30        7\n",
       "17        7\n",
       "28        7\n",
       "21        7\n",
       "36        5\n",
       "19        3\n",
       "42        3\n",
       "32        3\n",
       "34        3\n",
       "52        2\n",
       "48        2\n",
       "58        2\n",
       "25        2\n",
       "39        2\n",
       "88        2\n",
       "54        1\n",
       "146       1\n",
       "50        1\n",
       "35        1\n",
       "44        1\n",
       "108       1\n",
       "72        1\n",
       "40        1\n",
       "68        1\n",
       "45        1\n",
       "38        1\n",
       "69        1\n",
       "118       1\n",
       "66        1\n",
       "110       1\n",
       "33        1\n",
       "23        1\n",
       "27        1\n",
       "81        1\n",
       "37        1\n",
       "29        1\n",
       "Name: Dexa_Freq_During_Rx, dtype: int64"
      ]
     },
     "execution_count": 39,
     "metadata": {},
     "output_type": "execute_result"
    }
   ],
   "source": [
    "data['Dexa_Freq_During_Rx'].value_counts()"
   ]
  },
  {
   "cell_type": "code",
   "execution_count": 40,
   "id": "0f0d0119",
   "metadata": {},
   "outputs": [
    {
     "data": {
      "text/plain": [
       "N    2488\n",
       "Y     936\n",
       "Name: Dexa_During_Rx, dtype: int64"
      ]
     },
     "execution_count": 40,
     "metadata": {},
     "output_type": "execute_result"
    }
   ],
   "source": [
    "data['Dexa_During_Rx'].value_counts()"
   ]
  },
  {
   "cell_type": "code",
   "execution_count": 41,
   "id": "ffda8965",
   "metadata": {},
   "outputs": [
    {
     "data": {
      "text/plain": [
       "N    2872\n",
       "Y     552\n",
       "Name: Frag_Frac_Prior_Ntm, dtype: int64"
      ]
     },
     "execution_count": 41,
     "metadata": {},
     "output_type": "execute_result"
    }
   ],
   "source": [
    "data['Frag_Frac_Prior_Ntm'].value_counts()"
   ]
  },
  {
   "cell_type": "code",
   "execution_count": 42,
   "id": "41c15139",
   "metadata": {},
   "outputs": [
    {
     "data": {
      "text/plain": [
       "N    3007\n",
       "Y     417\n",
       "Name: Frag_Frac_During_Rx, dtype: int64"
      ]
     },
     "execution_count": 42,
     "metadata": {},
     "output_type": "execute_result"
    }
   ],
   "source": [
    "data['Frag_Frac_During_Rx'].value_counts()"
   ]
  },
  {
   "cell_type": "code",
   "execution_count": 43,
   "id": "c1df2524",
   "metadata": {},
   "outputs": [
    {
     "data": {
      "text/plain": [
       "N    2522\n",
       "Y     902\n",
       "Name: Gluco_Record_During_Rx, dtype: int64"
      ]
     },
     "execution_count": 43,
     "metadata": {},
     "output_type": "execute_result"
    }
   ],
   "source": [
    "data['Gluco_Record_During_Rx'].value_counts()"
   ]
  },
  {
   "cell_type": "code",
   "execution_count": 44,
   "id": "49265f7d",
   "metadata": {},
   "outputs": [
    {
     "data": {
      "text/plain": [
       "N    2619\n",
       "Y     805\n",
       "Name: Gluco_Record_Prior_Ntm, dtype: int64"
      ]
     },
     "execution_count": 44,
     "metadata": {},
     "output_type": "execute_result"
    }
   ],
   "source": [
    "data['Gluco_Record_Prior_Ntm'].value_counts()"
   ]
  },
  {
   "cell_type": "code",
   "execution_count": 45,
   "id": "97753e30",
   "metadata": {},
   "outputs": [
    {
     "data": {
      "text/plain": [
       "Y    3056\n",
       "N     368\n",
       "Name: Injectable_Experience_During_Rx, dtype: int64"
      ]
     },
     "execution_count": 45,
     "metadata": {},
     "output_type": "execute_result"
    }
   ],
   "source": [
    "data['Injectable_Experience_During_Rx'].value_counts()"
   ]
  },
  {
   "cell_type": "markdown",
   "id": "0ca7c735",
   "metadata": {},
   "source": [
    "any injectable drug usage in the recent 12 months before the NTM OP Rx is 3056"
   ]
  },
  {
   "cell_type": "markdown",
   "id": "3f676ba9",
   "metadata": {},
   "source": [
    "Risk factors"
   ]
  },
  {
   "cell_type": "code",
   "execution_count": 59,
   "id": "3aa3a0cc",
   "metadata": {},
   "outputs": [
    {
     "data": {
      "text/plain": [
       "N    3285\n",
       "Y     139\n",
       "Name: Risk_Type_1_Insulin_Dependent_Diabetes, dtype: int64"
      ]
     },
     "execution_count": 59,
     "metadata": {},
     "output_type": "execute_result"
    }
   ],
   "source": [
    "data['Risk_Type_1_Insulin_Dependent_Diabetes'].value_counts()"
   ]
  },
  {
   "cell_type": "code",
   "execution_count": 47,
   "id": "03903966",
   "metadata": {},
   "outputs": [
    {
     "data": {
      "text/plain": [
       "N    3421\n",
       "Y       3\n",
       "Name: Risk_Osteogenesis_Imperfecta, dtype: int64"
      ]
     },
     "execution_count": 47,
     "metadata": {},
     "output_type": "execute_result"
    }
   ],
   "source": [
    "data['Risk_Osteogenesis_Imperfecta'].value_counts()"
   ]
  },
  {
   "cell_type": "code",
   "execution_count": 48,
   "id": "26f0a160",
   "metadata": {},
   "outputs": [
    {
     "data": {
      "text/plain": [
       "N    3294\n",
       "Y     130\n",
       "Name: Risk_Rheumatoid_Arthritis, dtype: int64"
      ]
     },
     "execution_count": 48,
     "metadata": {},
     "output_type": "execute_result"
    }
   ],
   "source": [
    "data['Risk_Rheumatoid_Arthritis'].value_counts()"
   ]
  },
  {
   "cell_type": "code",
   "execution_count": 49,
   "id": "58369cf8",
   "metadata": {},
   "outputs": [
    {
     "data": {
      "text/plain": [
       "N    3422\n",
       "Y       2\n",
       "Name: Risk_Untreated_Chronic_Hyperthyroidism, dtype: int64"
      ]
     },
     "execution_count": 49,
     "metadata": {},
     "output_type": "execute_result"
    }
   ],
   "source": [
    "data['Risk_Untreated_Chronic_Hyperthyroidism'].value_counts()"
   ]
  },
  {
   "cell_type": "code",
   "execution_count": 50,
   "id": "4fc7601c",
   "metadata": {},
   "outputs": [
    {
     "data": {
      "text/plain": [
       "N    3297\n",
       "Y     127\n",
       "Name: Risk_Untreated_Chronic_Hypogonadism, dtype: int64"
      ]
     },
     "execution_count": 50,
     "metadata": {},
     "output_type": "execute_result"
    }
   ],
   "source": [
    "data['Risk_Untreated_Chronic_Hypogonadism'].value_counts()"
   ]
  },
  {
   "cell_type": "code",
   "execution_count": 51,
   "id": "e47a3d6a",
   "metadata": {},
   "outputs": [
    {
     "data": {
      "text/plain": [
       "N    3412\n",
       "Y      12\n",
       "Name: Risk_Untreated_Early_Menopause, dtype: int64"
      ]
     },
     "execution_count": 51,
     "metadata": {},
     "output_type": "execute_result"
    }
   ],
   "source": [
    "data['Risk_Untreated_Early_Menopause'].value_counts()"
   ]
  },
  {
   "cell_type": "code",
   "execution_count": 52,
   "id": "489bab1e",
   "metadata": {},
   "outputs": [
    {
     "data": {
      "text/plain": [
       "N    3168\n",
       "Y     256\n",
       "Name: Risk_Patient_Parent_Fractured_Their_Hip, dtype: int64"
      ]
     },
     "execution_count": 52,
     "metadata": {},
     "output_type": "execute_result"
    }
   ],
   "source": [
    "data['Risk_Patient_Parent_Fractured_Their_Hip'].value_counts()"
   ]
  },
  {
   "cell_type": "code",
   "execution_count": 53,
   "id": "784035d5",
   "metadata": {},
   "outputs": [
    {
     "data": {
      "text/plain": [
       "N    2780\n",
       "Y     644\n",
       "Name: Risk_Smoking_Tobacco, dtype: int64"
      ]
     },
     "execution_count": 53,
     "metadata": {},
     "output_type": "execute_result"
    }
   ],
   "source": [
    "data['Risk_Smoking_Tobacco'].value_counts()"
   ]
  },
  {
   "cell_type": "code",
   "execution_count": 54,
   "id": "f3f1f0bf",
   "metadata": {},
   "outputs": [
    {
     "data": {
      "text/plain": [
       "N    2954\n",
       "Y     470\n",
       "Name: Risk_Chronic_Malnutrition_Or_Malabsorption, dtype: int64"
      ]
     },
     "execution_count": 54,
     "metadata": {},
     "output_type": "execute_result"
    }
   ],
   "source": [
    "data['Risk_Chronic_Malnutrition_Or_Malabsorption'].value_counts()"
   ]
  },
  {
   "cell_type": "code",
   "execution_count": 55,
   "id": "f51600b5",
   "metadata": {},
   "outputs": [
    {
     "data": {
      "text/plain": [
       "N    3406\n",
       "Y      18\n",
       "Name: Risk_Chronic_Liver_Disease, dtype: int64"
      ]
     },
     "execution_count": 55,
     "metadata": {},
     "output_type": "execute_result"
    }
   ],
   "source": [
    "data['Risk_Chronic_Liver_Disease'].value_counts()"
   ]
  },
  {
   "cell_type": "code",
   "execution_count": 56,
   "id": "924a852f",
   "metadata": {},
   "outputs": [
    {
     "data": {
      "text/plain": [
       "N    3066\n",
       "Y     358\n",
       "Name: Risk_Family_History_Of_Osteoporosis, dtype: int64"
      ]
     },
     "execution_count": 56,
     "metadata": {},
     "output_type": "execute_result"
    }
   ],
   "source": [
    "data['Risk_Family_History_Of_Osteoporosis'].value_counts()"
   ]
  },
  {
   "cell_type": "code",
   "execution_count": 57,
   "id": "29d8ee22",
   "metadata": {},
   "outputs": [
    {
     "data": {
      "text/plain": [
       "N    3382\n",
       "Y      42\n",
       "Name: Risk_Low_Calcium_Intake, dtype: int64"
      ]
     },
     "execution_count": 57,
     "metadata": {},
     "output_type": "execute_result"
    }
   ],
   "source": [
    "data['Risk_Low_Calcium_Intake'].value_counts()"
   ]
  },
  {
   "cell_type": "code",
   "execution_count": 60,
   "id": "ca057bfd",
   "metadata": {},
   "outputs": [
    {
     "data": {
      "text/plain": [
       "N    1788\n",
       "Y    1636\n",
       "Name: Risk_Vitamin_D_Insufficiency, dtype: int64"
      ]
     },
     "execution_count": 60,
     "metadata": {},
     "output_type": "execute_result"
    }
   ],
   "source": [
    "data['Risk_Vitamin_D_Insufficiency'].value_counts()"
   ]
  },
  {
   "cell_type": "code",
   "execution_count": 61,
   "id": "21b1fa34",
   "metadata": {},
   "outputs": [
    {
     "data": {
      "text/plain": [
       "N    3232\n",
       "Y     192\n",
       "Name: Risk_Poor_Health_Frailty, dtype: int64"
      ]
     },
     "execution_count": 61,
     "metadata": {},
     "output_type": "execute_result"
    }
   ],
   "source": [
    "data['Risk_Poor_Health_Frailty'].value_counts()"
   ]
  },
  {
   "cell_type": "code",
   "execution_count": 62,
   "id": "32036497",
   "metadata": {},
   "outputs": [
    {
     "data": {
      "text/plain": [
       "N    3357\n",
       "Y      67\n",
       "Name: Risk_Excessive_Thinness, dtype: int64"
      ]
     },
     "execution_count": 62,
     "metadata": {},
     "output_type": "execute_result"
    }
   ],
   "source": [
    "data['Risk_Excessive_Thinness'].value_counts()"
   ]
  },
  {
   "cell_type": "code",
   "execution_count": 63,
   "id": "8ce1493e",
   "metadata": {},
   "outputs": [
    {
     "data": {
      "text/plain": [
       "N    3370\n",
       "Y      54\n",
       "Name: Risk_Hysterectomy_Oophorectomy, dtype: int64"
      ]
     },
     "execution_count": 63,
     "metadata": {},
     "output_type": "execute_result"
    }
   ],
   "source": [
    "data['Risk_Hysterectomy_Oophorectomy'].value_counts()"
   ]
  },
  {
   "cell_type": "code",
   "execution_count": 64,
   "id": "ffa18d45",
   "metadata": {},
   "outputs": [
    {
     "data": {
      "text/plain": [
       "N    3413\n",
       "Y      11\n",
       "Name: Risk_Estrogen_Deficiency, dtype: int64"
      ]
     },
     "execution_count": 64,
     "metadata": {},
     "output_type": "execute_result"
    }
   ],
   "source": [
    "data['Risk_Estrogen_Deficiency'].value_counts()"
   ]
  },
  {
   "cell_type": "code",
   "execution_count": 65,
   "id": "4da9a6d3",
   "metadata": {},
   "outputs": [
    {
     "data": {
      "text/plain": [
       "N    3410\n",
       "Y      14\n",
       "Name: Risk_Immobilization, dtype: int64"
      ]
     },
     "execution_count": 65,
     "metadata": {},
     "output_type": "execute_result"
    }
   ],
   "source": [
    "data['Risk_Immobilization'].value_counts()"
   ]
  },
  {
   "cell_type": "code",
   "execution_count": 66,
   "id": "1febd4bf",
   "metadata": {},
   "outputs": [
    {
     "data": {
      "text/plain": [
       "N    3355\n",
       "Y      69\n",
       "Name: Risk_Recurring_Falls, dtype: int64"
      ]
     },
     "execution_count": 66,
     "metadata": {},
     "output_type": "execute_result"
    }
   ],
   "source": [
    "data['Risk_Recurring_Falls'].value_counts()"
   ]
  },
  {
   "cell_type": "markdown",
   "id": "4dc26286",
   "metadata": {},
   "source": [
    "# all risk factors have high N value than Y"
   ]
  },
  {
   "cell_type": "markdown",
   "id": "fd2338b0",
   "metadata": {},
   "source": [
    "OTHER FACTORS"
   ]
  },
  {
   "cell_type": "code",
   "execution_count": 68,
   "id": "6d2e59c7",
   "metadata": {},
   "outputs": [
    {
     "data": {
      "text/plain": [
       "Comorb_Encounter_For_Screening_For_Malignant_Neoplasms  Comorb_Encounter_For_Immunization  Comorb_Vitamin_D_Deficiency  Comorb_Other_Joint_Disorder_Not_Elsewhere_Classified  Comorb_Encntr_For_Oth_Sp_Exam_W_O_Complaint_Suspected_Or_Reprtd_Dx  Comorb_Long_Term_Current_Drug_Therapy  Comorb_Dorsalgia  Comorb_Personal_History_Of_Other_Diseases_And_Conditions  Comorb_Other_Disorders_Of_Bone_Density_And_Structure  Comorb_Disorders_of_lipoprotein_metabolism_and_other_lipidemias  Comorb_Osteoporosis_without_current_pathological_fracture  Comorb_Personal_history_of_malignant_neoplasm  Comorb_Gastro_esophageal_reflux_disease  Concom_Cholesterol_And_Triglyceride_Regulating_Preparations  Concom_Narcotics  Concom_Systemic_Corticosteroids_Plain  Concom_Anti_Depressants_And_Mood_Stabilisers  Concom_Fluoroquinolones  Concom_Cephalosporins  Concom_Macrolides_And_Similar_Types  Concom_Broad_Spectrum_Penicillins  Concom_Anaesthetics_General  Concom_Viral_Vaccines\n",
       "N                                                       N                                  N                            N                                                     N                                                                   N                                      N                 N                                                         N                                                     N                                                                N                                                          N                                              N                                        N                                                            N                 N                                      N                                             N                        N                      N                                    N                                  N                            N                        184\n",
       "Y                                                       N                                  N                            N                                                     N                                                                   N                                      N                 N                                                         N                                                     N                                                                N                                                          N                                              N                                        N                                                            N                 N                                      N                                             N                        N                      N                                    N                                  N                            N                         47\n",
       "N                                                       N                                  Y                            N                                                     N                                                                   N                                      N                 N                                                         N                                                     N                                                                N                                                          N                                              N                                        N                                                            N                 N                                      N                                             N                        N                      N                                    N                                  N                            N                         31\n",
       "                                                                                           N                            N                                                     N                                                                   N                                      N                 N                                                         N                                                     Y                                                                N                                                          N                                              N                                        Y                                                            N                 N                                      N                                             N                        N                      N                                    N                                  N                            N                         27\n",
       "                                                        Y                                  N                            N                                                     N                                                                   N                                      N                 N                                                         N                                                     N                                                                N                                                          N                                              N                                        N                                                            N                 N                                      N                                             N                        N                      N                                    N                                  N                            N                         24\n",
       "                                                                                                                                                                                                                                                                                                                                                                                                                                                                                                                                                                                                                                                                                                                                                                                                                                                                                                                                                                                                ... \n",
       "                                                                                                                                                                              Y                                                                   N                                      Y                 N                                                         N                                                     Y                                                                N                                                          Y                                              N                                        Y                                                            Y                 N                                      Y                                             N                        N                      N                                    N                                  N                            N                          1\n",
       "                                                                                                                                                                                                                                                                                                                                                                                                                                                                                            Y                                                          N                                              N                                        Y                                                            Y                 N                                      N                                             N                        N                      Y                                    N                                  Y                            N                          1\n",
       "                                                                                                                                                                                                                                                                                                           Y                                                         N                                                     N                                                                N                                                          N                                              N                                        N                                                            N                 N                                      N                                             N                        N                      N                                    N                                  N                            N                          1\n",
       "                                                                                                                                                                                                                                                                                                                                                                                                                           Y                                                                N                                                          N                                              N                                        Y                                                            N                 Y                                      N                                             Y                        N                      N                                    N                                  N                            N                          1\n",
       "Y                                                       Y                                  Y                            Y                                                     Y                                                                   Y                                      Y                 Y                                                         Y                                                     Y                                                                Y                                                          Y                                              Y                                        Y                                                            Y                 Y                                      Y                                             N                        N                      Y                                    N                                  Y                            Y                          1\n",
       "Length: 2588, dtype: int64"
      ]
     },
     "execution_count": 68,
     "metadata": {},
     "output_type": "execute_result"
    }
   ],
   "source": [
    "data[['Comorb_Encounter_For_Screening_For_Malignant_Neoplasms','Comorb_Encounter_For_Immunization','Comorb_Vitamin_D_Deficiency','Comorb_Other_Joint_Disorder_Not_Elsewhere_Classified','Comorb_Encntr_For_Oth_Sp_Exam_W_O_Complaint_Suspected_Or_Reprtd_Dx','Comorb_Long_Term_Current_Drug_Therapy','Comorb_Dorsalgia','Comorb_Personal_History_Of_Other_Diseases_And_Conditions','Comorb_Other_Disorders_Of_Bone_Density_And_Structure','Comorb_Disorders_of_lipoprotein_metabolism_and_other_lipidemias','Comorb_Osteoporosis_without_current_pathological_fracture','Comorb_Personal_history_of_malignant_neoplasm','Comorb_Gastro_esophageal_reflux_disease','Concom_Cholesterol_And_Triglyceride_Regulating_Preparations','Concom_Narcotics','Concom_Systemic_Corticosteroids_Plain','Concom_Anti_Depressants_And_Mood_Stabilisers','Concom_Fluoroquinolones','Concom_Cephalosporins','Concom_Macrolides_And_Similar_Types','Concom_Broad_Spectrum_Penicillins','Concom_Anaesthetics_General','Concom_Viral_Vaccines']].value_counts()"
   ]
  },
  {
   "cell_type": "markdown",
   "id": "14f28f03",
   "metadata": {},
   "source": [
    "as we see N> Y"
   ]
  },
  {
   "cell_type": "code",
   "execution_count": null,
   "id": "9b783445",
   "metadata": {},
   "outputs": [],
   "source": []
  },
  {
   "cell_type": "code",
   "execution_count": null,
   "id": "4c73f793",
   "metadata": {},
   "outputs": [],
   "source": []
  }
 ],
 "metadata": {
  "kernelspec": {
   "display_name": "Python 3 (ipykernel)",
   "language": "python",
   "name": "python3"
  },
  "language_info": {
   "codemirror_mode": {
    "name": "ipython",
    "version": 3
   },
   "file_extension": ".py",
   "mimetype": "text/x-python",
   "name": "python",
   "nbconvert_exporter": "python",
   "pygments_lexer": "ipython3",
   "version": "3.9.12"
  }
 },
 "nbformat": 4,
 "nbformat_minor": 5
}
